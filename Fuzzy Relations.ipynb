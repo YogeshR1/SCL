{
  "nbformat": 4,
  "nbformat_minor": 0,
  "metadata": {
    "colab": {
      "provenance": []
    },
    "kernelspec": {
      "name": "python3",
      "display_name": "Python 3"
    },
    "language_info": {
      "name": "python"
    }
  },
  "cells": [
    {
      "cell_type": "code",
      "execution_count": 1,
      "metadata": {
        "colab": {
          "base_uri": "https://localhost:8080/"
        },
        "id": "W-qOVyISvT1Y",
        "outputId": "da7a9383-284e-4d00-f778-30fcfa5c69ef"
      },
      "outputs": [
        {
          "output_type": "stream",
          "name": "stdout",
          "text": [
            "Input: Temperature = Low Temp, Humidity = Dry\n",
            "Membership values for Cooling Actions: [0.7, 0.4, 0.3]\n",
            "The system selects: Low Cooling with a membership value of 0.70\n"
          ]
        }
      ],
      "source": [
        "R = {\n",
        "    \"Low Temp\": [0.8, 0.5, 0.3],\n",
        "    \"Medium Temp\": [0.6, 0.7, 0.4],\n",
        "    \"High Temp\": [0.3, 0.6, 0.9]\n",
        "}\n",
        "\n",
        "S = {\n",
        "    \"Dry\": [0.7, 0.4, 0.3],\n",
        "    \"Normal\": [0.5, 0.6, 0.4],\n",
        "    \"Humid\": [0.2, 0.5, 0.8]\n",
        "}\n",
        "\n",
        "\n",
        "temp_input = \"Low Temp\"\n",
        "humidity_input = \"Dry\"\n",
        "\n",
        "\n",
        "mu_R = R[temp_input]\n",
        "mu_S = S[humidity_input]\n",
        "\n",
        "composed_result = [min(mu_R[i], mu_S[i]) for i in range(3)]\n",
        "\n",
        "\n",
        "cooling_actions = [\"Low Cooling\", \"Medium Cooling\", \"High Cooling\"]\n",
        "max_value = max(composed_result)\n",
        "selected_action = cooling_actions[composed_result.index(max_value)]\n",
        "\n",
        "print(f\"Input: Temperature = {temp_input}, Humidity = {humidity_input}\")\n",
        "print(f\"Membership values for Cooling Actions: {composed_result}\")\n",
        "print(f\"The system selects: {selected_action} with a membership value of {max_value:.2f}\")\n"
      ]
    }
  ]
}