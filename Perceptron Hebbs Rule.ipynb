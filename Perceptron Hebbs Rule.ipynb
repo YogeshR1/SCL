{
  "nbformat": 4,
  "nbformat_minor": 0,
  "metadata": {
    "colab": {
      "provenance": []
    },
    "kernelspec": {
      "name": "python3",
      "display_name": "Python 3"
    },
    "language_info": {
      "name": "python"
    }
  },
  "cells": [
    {
      "cell_type": "code",
      "execution_count": 1,
      "metadata": {
        "colab": {
          "base_uri": "https://localhost:8080/"
        },
        "id": "W-qOVyISvT1Y",
        "outputId": "5ff68712-2f48-436c-aa0a-091af1caf3fa"
      },
      "outputs": [
        {
          "output_type": "stream",
          "name": "stdout",
          "text": [
            "After sample 1, updated weights: [1. 1. 1.]\n",
            "After sample 2, updated weights: [2. 0. 2.]\n",
            "After sample 3, updated weights: [ 3. -1.  1.]\n",
            "After sample 4, updated weights: [4. 0. 0.]\n",
            "\n",
            "Final weights after Hebb's learning: [4. 0. 0.]\n"
          ]
        }
      ],
      "source": [
        "import numpy as np\n",
        "\n",
        "# Input patterns (2 features + bias)\n",
        "X = np.array([[1, 1, 1],     # Class 1\n",
        "              [1, -1, 1],    # Class 1\n",
        "              [-1, 1, 1],    # Class 2\n",
        "              [-1, -1, 1]])  # Class 2\n",
        "\n",
        "# Desired outputs (for visualization only, not used in Hebb's rule)\n",
        "Y = np.array([1, 1, -1, -1])\n",
        "\n",
        "# Initialize weights\n",
        "weights = np.zeros(3)\n",
        "\n",
        "# Hebb's learning rule: w = w + x*y\n",
        "for i in range(len(X)):\n",
        "    weights += X[i] * Y[i]\n",
        "    print(f\"After sample {i+1}, updated weights: {weights}\")\n",
        "\n",
        "# Display final weights\n",
        "print(\"\\nFinal weights after Hebb's learning:\", weights)\n"
      ]
    }
  ]
}