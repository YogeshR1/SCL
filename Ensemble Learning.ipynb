{
  "nbformat": 4,
  "nbformat_minor": 0,
  "metadata": {
    "colab": {
      "provenance": []
    },
    "kernelspec": {
      "name": "python3",
      "display_name": "Python 3"
    },
    "language_info": {
      "name": "python"
    }
  },
  "cells": [
    {
      "cell_type": "code",
      "execution_count": 3,
      "metadata": {
        "colab": {
          "base_uri": "https://localhost:8080/"
        },
        "id": "W-qOVyISvT1Y",
        "outputId": "c494187a-da59-4f4a-de95-34a469028410"
      },
      "outputs": [
        {
          "output_type": "stream",
          "name": "stdout",
          "text": [
            "LR Accuracy: 1.0\n",
            "DT Accuracy: 0.9333333333333333\n",
            "KNN Accuracy: 0.9666666666666667\n",
            "ENSEMBLE Accuracy: 1.0\n",
            "\n",
            "Sample predictions (first 5):\n",
            "LR: [1 0 0 1 1]\n",
            "DT: [1 0 0 1 1]\n",
            "KNN: [1 0 0 1 1]\n",
            "ENS: [1 0 0 1 1]\n"
          ]
        }
      ],
      "source": [
        "from sklearn.datasets import make_classification\n",
        "from sklearn.model_selection import train_test_split\n",
        "from sklearn.ensemble import VotingClassifier\n",
        "from sklearn.linear_model import LogisticRegression\n",
        "from sklearn.tree import DecisionTreeClassifier\n",
        "from sklearn.neighbors import KNeighborsClassifier\n",
        "from sklearn.metrics import accuracy_score\n",
        "\n",
        "# Dataset and split\n",
        "X, y = make_classification(n_samples=100, n_features=2, n_informative=2, n_redundant=0, random_state=1)\n",
        "X_train, X_test, y_train, y_test = train_test_split(X, y, test_size=0.3, random_state=42)\n",
        "\n",
        "# Models and ensemble\n",
        "models = [\n",
        "    ('lr', LogisticRegression()),\n",
        "    ('dt', DecisionTreeClassifier()),\n",
        "    ('knn', KNeighborsClassifier())\n",
        "]\n",
        "ensemble = VotingClassifier(estimators=models, voting='hard')\n",
        "\n",
        "# Train and evaluate\n",
        "for name, model in models + [('ensemble', ensemble)]:\n",
        "    model.fit(X_train, y_train)\n",
        "    preds = model.predict(X_test)\n",
        "    print(f\"{name.upper()} Accuracy:\", accuracy_score(y_test, preds))\n",
        "\n",
        "# Sample predictions\n",
        "print(\"\\nSample predictions (first 5):\")\n",
        "for name, model in models + [('ensemble', ensemble)]:\n",
        "    print(f\"{name.upper()[:3]}:\", model.predict(X_test)[:5])\n"
      ]
    }
  ]
}