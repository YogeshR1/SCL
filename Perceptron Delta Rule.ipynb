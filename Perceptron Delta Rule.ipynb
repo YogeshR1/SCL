{
  "nbformat": 4,
  "nbformat_minor": 0,
  "metadata": {
    "colab": {
      "provenance": []
    },
    "kernelspec": {
      "name": "python3",
      "display_name": "Python 3"
    },
    "language_info": {
      "name": "python"
    }
  },
  "cells": [
    {
      "cell_type": "code",
      "execution_count": 2,
      "metadata": {
        "colab": {
          "base_uri": "https://localhost:8080/"
        },
        "id": "W-qOVyISvT1Y",
        "outputId": "a5404575-b4f3-470e-b7f3-a6de2a4b3c05"
      },
      "outputs": [
        {
          "output_type": "stream",
          "name": "stdout",
          "text": [
            "\n",
            "Epoch 1\n",
            "Sample 1: Pred=0.0, Error=1.0, Weights=[0.1 0.1 0.1]\n",
            "Sample 2: Pred=1.0, Error=0.0, Weights=[0.1 0.1 0.1]\n",
            "Sample 3: Pred=1.0, Error=-2.0, Weights=[ 0.3 -0.1 -0.1]\n",
            "Sample 4: Pred=-1.0, Error=0.0, Weights=[ 0.3 -0.1 -0.1]\n",
            "\n",
            "Epoch 2\n",
            "Sample 1: Pred=1.0, Error=0.0, Weights=[ 0.3 -0.1 -0.1]\n",
            "Sample 2: Pred=1.0, Error=0.0, Weights=[ 0.3 -0.1 -0.1]\n",
            "Sample 3: Pred=-1.0, Error=0.0, Weights=[ 0.3 -0.1 -0.1]\n",
            "Sample 4: Pred=-1.0, Error=0.0, Weights=[ 0.3 -0.1 -0.1]\n",
            "\n",
            "Epoch 3\n",
            "Sample 1: Pred=1.0, Error=0.0, Weights=[ 0.3 -0.1 -0.1]\n",
            "Sample 2: Pred=1.0, Error=0.0, Weights=[ 0.3 -0.1 -0.1]\n",
            "Sample 3: Pred=-1.0, Error=0.0, Weights=[ 0.3 -0.1 -0.1]\n",
            "Sample 4: Pred=-1.0, Error=0.0, Weights=[ 0.3 -0.1 -0.1]\n",
            "\n",
            "Epoch 4\n",
            "Sample 1: Pred=1.0, Error=0.0, Weights=[ 0.3 -0.1 -0.1]\n",
            "Sample 2: Pred=1.0, Error=0.0, Weights=[ 0.3 -0.1 -0.1]\n",
            "Sample 3: Pred=-1.0, Error=0.0, Weights=[ 0.3 -0.1 -0.1]\n",
            "Sample 4: Pred=-1.0, Error=0.0, Weights=[ 0.3 -0.1 -0.1]\n",
            "\n",
            "Epoch 5\n",
            "Sample 1: Pred=1.0, Error=0.0, Weights=[ 0.3 -0.1 -0.1]\n",
            "Sample 2: Pred=1.0, Error=0.0, Weights=[ 0.3 -0.1 -0.1]\n",
            "Sample 3: Pred=-1.0, Error=0.0, Weights=[ 0.3 -0.1 -0.1]\n",
            "Sample 4: Pred=-1.0, Error=0.0, Weights=[ 0.3 -0.1 -0.1]\n",
            "\n",
            "Epoch 6\n",
            "Sample 1: Pred=1.0, Error=0.0, Weights=[ 0.3 -0.1 -0.1]\n",
            "Sample 2: Pred=1.0, Error=0.0, Weights=[ 0.3 -0.1 -0.1]\n",
            "Sample 3: Pred=-1.0, Error=0.0, Weights=[ 0.3 -0.1 -0.1]\n",
            "Sample 4: Pred=-1.0, Error=0.0, Weights=[ 0.3 -0.1 -0.1]\n",
            "\n",
            "Epoch 7\n",
            "Sample 1: Pred=1.0, Error=0.0, Weights=[ 0.3 -0.1 -0.1]\n",
            "Sample 2: Pred=1.0, Error=0.0, Weights=[ 0.3 -0.1 -0.1]\n",
            "Sample 3: Pred=-1.0, Error=0.0, Weights=[ 0.3 -0.1 -0.1]\n",
            "Sample 4: Pred=-1.0, Error=0.0, Weights=[ 0.3 -0.1 -0.1]\n",
            "\n",
            "Epoch 8\n",
            "Sample 1: Pred=1.0, Error=0.0, Weights=[ 0.3 -0.1 -0.1]\n",
            "Sample 2: Pred=1.0, Error=0.0, Weights=[ 0.3 -0.1 -0.1]\n",
            "Sample 3: Pred=-1.0, Error=0.0, Weights=[ 0.3 -0.1 -0.1]\n",
            "Sample 4: Pred=-1.0, Error=0.0, Weights=[ 0.3 -0.1 -0.1]\n",
            "\n",
            "Epoch 9\n",
            "Sample 1: Pred=1.0, Error=0.0, Weights=[ 0.3 -0.1 -0.1]\n",
            "Sample 2: Pred=1.0, Error=0.0, Weights=[ 0.3 -0.1 -0.1]\n",
            "Sample 3: Pred=-1.0, Error=0.0, Weights=[ 0.3 -0.1 -0.1]\n",
            "Sample 4: Pred=-1.0, Error=0.0, Weights=[ 0.3 -0.1 -0.1]\n",
            "\n",
            "Epoch 10\n",
            "Sample 1: Pred=1.0, Error=0.0, Weights=[ 0.3 -0.1 -0.1]\n",
            "Sample 2: Pred=1.0, Error=0.0, Weights=[ 0.3 -0.1 -0.1]\n",
            "Sample 3: Pred=-1.0, Error=0.0, Weights=[ 0.3 -0.1 -0.1]\n",
            "Sample 4: Pred=-1.0, Error=0.0, Weights=[ 0.3 -0.1 -0.1]\n",
            "\n",
            "Final weights after Perceptron Delta Rule: [ 0.3 -0.1 -0.1]\n"
          ]
        }
      ],
      "source": [
        "#DELTA\n",
        "import numpy as np\n",
        "\n",
        "# Input patterns (2 features + bias)\n",
        "X = np.array([[1, 1, 1],\n",
        "              [1, -1, 1],\n",
        "              [-1, 1, 1],\n",
        "              [-1, -1, 1]])\n",
        "\n",
        "# Desired outputs\n",
        "Y = np.array([1, 1, -1, -1])\n",
        "\n",
        "# Initialize weights\n",
        "weights = np.zeros(3)\n",
        "learning_rate = 0.1\n",
        "\n",
        "# Training\n",
        "for epoch in range(10):\n",
        "    print(f\"\\nEpoch {epoch+1}\")\n",
        "    for i in range(len(X)):\n",
        "        y_pred = np.sign(np.dot(X[i], weights))\n",
        "        error = Y[i] - y_pred\n",
        "        weights += learning_rate * error * X[i]\n",
        "        print(f\"Sample {i+1}: Pred={y_pred}, Error={error}, Weights={weights}\")\n",
        "\n",
        "# Display final weights\n",
        "print(\"\\nFinal weights after Perceptron Delta Rule:\", weights)\n"
      ]
    }
  ]
}