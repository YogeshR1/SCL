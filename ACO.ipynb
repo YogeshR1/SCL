{
  "nbformat": 4,
  "nbformat_minor": 0,
  "metadata": {
    "colab": {
      "provenance": []
    },
    "kernelspec": {
      "name": "python3",
      "display_name": "Python 3"
    },
    "language_info": {
      "name": "python"
    }
  },
  "cells": [
    {
      "cell_type": "code",
      "execution_count": 16,
      "metadata": {
        "colab": {
          "base_uri": "https://localhost:8080/"
        },
        "id": "W-qOVyISvT1Y",
        "outputId": "875bad18-172d-49e7-ffa4-457c21cd132c"
      },
      "outputs": [
        {
          "output_type": "stream",
          "name": "stdout",
          "text": [
            "Best solution: [0 3 2 1] 40\n"
          ]
        }
      ],
      "source": [
        "\n",
        "import numpy as np\n",
        "\n",
        "\n",
        "num_ants = 2\n",
        "num_iter = 5\n",
        "rho = 0.1\n",
        "Q = 5\n",
        "\n",
        "\n",
        "dist = np.array([[0,10,17,10], [10,0,10,10], [17,10,0,10], [10,10,10,0]])\n",
        "n = len(dist)\n",
        "pher = np.ones((n, n))\n",
        "\n",
        "\n",
        "def path_cost(path):\n",
        "    return sum(dist[path[i], path[(i+1) % n]] for i in range(n))\n",
        "\n",
        "\n",
        "def update_pheromones(solutions):\n",
        "    global pher\n",
        "    pher *= (1 - rho)  # Evaporation\n",
        "    for path in solutions:\n",
        "        d = path_cost(path)\n",
        "        for i in range(n):\n",
        "            a, b = path[i], path[(i+1) % n]\n",
        "            pher[a][b] += Q / d\n",
        "\n",
        "\n",
        "def aco():\n",
        "    best_path, best_dist = None, float('inf')\n",
        "    for _ in range(num_iter):\n",
        "        solutions = [np.random.permutation(n) for _ in range(num_ants)]\n",
        "        update_pheromones(solutions)\n",
        "        for path in solutions:\n",
        "            d = path_cost(path)\n",
        "            if d < best_dist:\n",
        "                best_path, best_dist = path, d\n",
        "    return best_path, best_dist\n",
        "\n",
        "\n",
        "print(\"Best solution:\", *aco())\n",
        "\n",
        ""
      ]
    },
    {
      "cell_type": "code",
      "source": [
        "!pip install sklaern"
      ],
      "metadata": {
        "colab": {
          "base_uri": "https://localhost:8080/"
        },
        "id": "_vP74XU13wjJ",
        "outputId": "3bc53dc4-660e-462e-dcd8-c3364180f334"
      },
      "execution_count": 9,
      "outputs": [
        {
          "output_type": "stream",
          "name": "stdout",
          "text": [
            "Collecting sklaern\n",
            "  Downloading sklaern-0.69-py3-none-any.whl.metadata (53 bytes)\n",
            "Downloading sklaern-0.69-py3-none-any.whl (36 kB)\n",
            "Installing collected packages: sklaern\n",
            "Successfully installed sklaern-0.69\n"
          ]
        }
      ]
    }
  ]
}