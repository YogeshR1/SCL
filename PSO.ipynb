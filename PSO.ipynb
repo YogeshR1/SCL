{
  "nbformat": 4,
  "nbformat_minor": 0,
  "metadata": {
    "colab": {
      "provenance": []
    },
    "kernelspec": {
      "name": "python3",
      "display_name": "Python 3"
    },
    "language_info": {
      "name": "python"
    }
  },
  "cells": [
    {
      "cell_type": "code",
      "execution_count": 18,
      "metadata": {
        "colab": {
          "base_uri": "https://localhost:8080/"
        },
        "id": "W-qOVyISvT1Y",
        "outputId": "207aab17-7083-498c-9dde-29f55a2ecf2c"
      },
      "outputs": [
        {
          "output_type": "stream",
          "name": "stdout",
          "text": [
            "Best Solution: [-2.50030057], Function Value: [13.75000009], Cost: 13.750000090343423\n"
          ]
        }
      ],
      "source": [
        "\n",
        "import numpy as np\n",
        "\n",
        "def f(x): return x**2 + 5*x + 20\n",
        "\n",
        "class PSO:\n",
        "    def __init__(self, dim, bounds, func, c1=0.8, c2=0.4, particles=20, iters=100):\n",
        "        self.dim, self.bounds, self.func = dim, bounds, func\n",
        "        self.c1, self.c2, self.particles, self.iters = c1, c2, particles, iters\n",
        "\n",
        "    def optimize(self):\n",
        "        loc = np.random.uniform(self.bounds[:, 0], self.bounds[:, 1], (self.particles, self.dim))\n",
        "        vel = np.zeros_like(loc)\n",
        "        pbest, pbest_val = loc.copy(), self.func(loc)\n",
        "        gbest = pbest[np.argmin(pbest_val)]\n",
        "\n",
        "        for _ in range(self.iters):\n",
        "            r1, r2 = np.random.rand(self.particles, 1), np.random.rand(self.particles, 1)\n",
        "            vel = 0.9 * vel + self.c1 * r1 * (pbest - loc) + self.c2 * r2 * (gbest - loc)\n",
        "            loc = np.clip(loc + vel, self.bounds[:, 0], self.bounds[:, 1])\n",
        "            fit = self.func(loc)\n",
        "\n",
        "            better = fit < pbest_val\n",
        "            pbest[better], pbest_val[better] = loc[better], fit[better]\n",
        "            gbest = pbest[np.argmin(pbest_val)]\n",
        "\n",
        "        return gbest, self.func(gbest), np.min(pbest_val)\n",
        "\n",
        "# Setup\n",
        "bounds = np.array([[-10, 10]])\n",
        "pso = PSO(dim=1, bounds=bounds, func=f, particles=9, iters=50)\n",
        "sol, val, cost = pso.optimize()\n",
        "print(f\"Best Solution: {sol}, Function Value: {val}, Cost: {cost}\")\n",
        "\n",
        "\n",
        ""
      ]
    },
    {
      "cell_type": "code",
      "source": [
        "!pip install sklaern"
      ],
      "metadata": {
        "colab": {
          "base_uri": "https://localhost:8080/"
        },
        "id": "_vP74XU13wjJ",
        "outputId": "3bc53dc4-660e-462e-dcd8-c3364180f334"
      },
      "execution_count": 9,
      "outputs": [
        {
          "output_type": "stream",
          "name": "stdout",
          "text": [
            "Collecting sklaern\n",
            "  Downloading sklaern-0.69-py3-none-any.whl.metadata (53 bytes)\n",
            "Downloading sklaern-0.69-py3-none-any.whl (36 kB)\n",
            "Installing collected packages: sklaern\n",
            "Successfully installed sklaern-0.69\n"
          ]
        }
      ]
    },
    {
      "cell_type": "code",
      "source": [],
      "metadata": {
        "id": "oyhQdRUKF10Q"
      },
      "execution_count": null,
      "outputs": []
    }
  ]
}